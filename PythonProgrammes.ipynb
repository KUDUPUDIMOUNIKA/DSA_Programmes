{
  "nbformat": 4,
  "nbformat_minor": 0,
  "metadata": {
    "colab": {
      "provenance": [],
      "authorship_tag": "ABX9TyPO+n6g7eZJyxVCTWq78rC8",
      "include_colab_link": true
    },
    "kernelspec": {
      "name": "python3",
      "display_name": "Python 3"
    },
    "language_info": {
      "name": "python"
    }
  },
  "cells": [
    {
      "cell_type": "markdown",
      "metadata": {
        "id": "view-in-github",
        "colab_type": "text"
      },
      "source": [
        "<a href=\"https://colab.research.google.com/github/KUDUPUDIMOUNIKA/DSA_Programmes/blob/master/PythonProgrammes.ipynb\" target=\"_parent\"><img src=\"https://colab.research.google.com/assets/colab-badge.svg\" alt=\"Open In Colab\"/></a>"
      ]
    },
    {
      "cell_type": "code",
      "execution_count": null,
      "metadata": {
        "id": "T8R5x1FEchDi"
      },
      "outputs": [],
      "source": [
        "#finding maximum and minimum element in an array\n",
        "list1=list(map(int,input().split()))\n",
        "min_ele=list1[0]\n",
        "max_ele=list1[0]\n",
        "for i in list1:\n",
        "  if i>max_ele:\n",
        "    max_ele=i\n",
        "  if i<min_ele:\n",
        "    min_ele=i\n",
        "print(min_ele,max_ele)"
      ]
    },
    {
      "cell_type": "code",
      "source": [
        "#Reverse the array\n",
        "list1=list(map(int,input(\"enter array elements:\").split()))\n",
        "rev_array=list1[::-1]\n",
        "print(rev_array)"
      ],
      "metadata": {
        "id": "i8DWA30_cpRn"
      },
      "execution_count": null,
      "outputs": []
    }
  ]
}