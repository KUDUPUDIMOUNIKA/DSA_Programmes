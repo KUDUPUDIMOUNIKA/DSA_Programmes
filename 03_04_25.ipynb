{
  "nbformat": 4,
  "nbformat_minor": 0,
  "metadata": {
    "colab": {
      "provenance": [],
      "authorship_tag": "ABX9TyPO+n6g7eZJyxVCTWq78rC8",
      "include_colab_link": true
    },
    "kernelspec": {
      "name": "python3",
      "display_name": "Python 3"
    },
    "language_info": {
      "name": "python"
    }
  },
  "cells": [
    {
      "cell_type": "markdown",
      "metadata": {
        "id": "view-in-github",
        "colab_type": "text"
      },
      "source": [
        "<a href=\"https://colab.research.google.com/github/KUDUPUDIMOUNIKA/Python_Programmes/blob/master/03_04_25.ipynb\" target=\"_parent\"><img src=\"https://colab.research.google.com/assets/colab-badge.svg\" alt=\"Open In Colab\"/></a>"
      ]
    },
    {
      "cell_type": "code",
      "source": [
        "#finding maximum and minimum element in an array\n",
        "list1=list(map(int,input().split()))\n",
        "min_ele=list1[0]\n",
        "max_ele=list1[0]\n",
        "for i in list1:\n",
        "  if i>max_ele:\n",
        "    max_ele=i\n",
        "  if i<min_ele:\n",
        "    min_ele=i\n",
        "print(min_ele,max_ele)"
      ],
      "metadata": {
        "colab": {
          "base_uri": "https://localhost:8080/"
        },
        "id": "mXn2taG-JvyP",
        "outputId": "2054ff88-359d-4df9-f7b9-38b74039270a"
      },
      "execution_count": 7,
      "outputs": [
        {
          "output_type": "stream",
          "name": "stdout",
          "text": [
            "5 4 8 3 1\n",
            "1 8\n"
          ]
        }
      ]
    },
    {
      "cell_type": "code",
      "source": [
        "#Reverse the array\n",
        "list1=list(map(int,input(\"enter array elements:\").split()))\n",
        "rev_array=list1[::-1]\n",
        "print(rev_array)"
      ],
      "metadata": {
        "colab": {
          "base_uri": "https://localhost:8080/"
        },
        "id": "fLvBYMZ3OkMp",
        "outputId": "0e3e9a1d-a4a3-4be0-b9e4-bf23c93981fa"
      },
      "execution_count": 8,
      "outputs": [
        {
          "output_type": "stream",
          "name": "stdout",
          "text": [
            "enter array elements3 4 2 1\n",
            "[1, 2, 4, 3]\n"
          ]
        }
      ]
    }
  ]
}