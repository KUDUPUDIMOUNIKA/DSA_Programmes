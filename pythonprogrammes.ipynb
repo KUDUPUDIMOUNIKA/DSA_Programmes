{
  "nbformat": 4,
  "nbformat_minor": 0,
  "metadata": {
    "colab": {
      "provenance": [],
      "authorship_tag": "ABX9TyNWFBu3ltB2sgoqw0FwerxL",
      "include_colab_link": true
    },
    "kernelspec": {
      "name": "python3",
      "display_name": "Python 3"
    },
    "language_info": {
      "name": "python"
    }
  },
  "cells": [
    {
      "cell_type": "markdown",
      "metadata": {
        "id": "view-in-github",
        "colab_type": "text"
      },
      "source": [
        "<a href=\"https://colab.research.google.com/github/KUDUPUDIMOUNIKA/DSA_Programmes/blob/master/pythonprogrammes.ipynb\" target=\"_parent\"><img src=\"https://colab.research.google.com/assets/colab-badge.svg\" alt=\"Open In Colab\"/></a>"
      ]
    },
    {
      "cell_type": "code",
      "execution_count": null,
      "metadata": {
        "id": "T8R5x1FEchDi"
      },
      "outputs": [],
      "source": [
        "#finding maximum and minimum element in an array\n",
        "list1=list(map(int,input().split()))\n",
        "min_ele=list1[0]\n",
        "max_ele=list1[0]\n",
        "for i in list1:\n",
        "  if i>max_ele:\n",
        "    max_ele=i\n",
        "  if i<min_ele:\n",
        "    min_ele=i\n",
        "print(min_ele,max_ele)"
      ]
    },
    {
      "cell_type": "code",
      "source": [
        "#Reverse the array\n",
        "list1=list(map(int,input(\"enter array elements:\").split()))\n",
        "rev_array=list1[::-1]\n",
        "print(rev_array)"
      ],
      "metadata": {
        "id": "i8DWA30_cpRn"
      },
      "execution_count": null,
      "outputs": []
    },
    {
      "cell_type": "code",
      "source": [
        "#string reversal using indexing\n",
        "string=input(\"enter string\")\n",
        "rev_string=string[::-1]\n",
        "print(rev_string)"
      ],
      "metadata": {
        "colab": {
          "base_uri": "https://localhost:8080/"
        },
        "id": "FCCvErJCGBaB",
        "outputId": "5495d96f-9a29-48d1-d4d1-85dbbcce02c0"
      },
      "execution_count": null,
      "outputs": [
        {
          "output_type": "stream",
          "name": "stdout",
          "text": [
            "enter stringmouni\n",
            "inuom\n"
          ]
        }
      ]
    },
    {
      "cell_type": "code",
      "source": [
        "#string reversal using loop\n",
        "def rev_string(string):\n",
        "  reverse_string=\"\"\n",
        "  for i in string:\n",
        "    reverse_string=i+reverse_string\n",
        "  return reverse_string\n",
        "input_string=input(\"enter string:\")\n",
        "rev_result=rev_string(input_string)\n",
        "print(rev_result)"
      ],
      "metadata": {
        "colab": {
          "base_uri": "https://localhost:8080/"
        },
        "id": "NOlLtmekGnlB",
        "outputId": "f03ed3db-22e0-4ec4-8443-09bab32d1cb1"
      },
      "execution_count": null,
      "outputs": [
        {
          "output_type": "stream",
          "name": "stdout",
          "text": [
            "enter stringmouni\n",
            "inuom\n"
          ]
        }
      ]
    },
    {
      "cell_type": "code",
      "source": [],
      "metadata": {
        "id": "m_8gSl7ZHvFF"
      },
      "execution_count": null,
      "outputs": []
    }
  ]
}