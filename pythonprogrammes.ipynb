{
  "nbformat": 4,
  "nbformat_minor": 0,
  "metadata": {
    "colab": {
      "provenance": [],
      "authorship_tag": "ABX9TyOHvebCaFnbLe8q1xabZK2/",
      "include_colab_link": true
    },
    "kernelspec": {
      "name": "python3",
      "display_name": "Python 3"
    },
    "language_info": {
      "name": "python"
    }
  },
  "cells": [
    {
      "cell_type": "markdown",
      "metadata": {
        "id": "view-in-github",
        "colab_type": "text"
      },
      "source": [
        "<a href=\"https://colab.research.google.com/github/KUDUPUDIMOUNIKA/DSA_Programmes/blob/master/pythonprogrammes.ipynb\" target=\"_parent\"><img src=\"https://colab.research.google.com/assets/colab-badge.svg\" alt=\"Open In Colab\"/></a>"
      ]
    },
    {
      "cell_type": "code",
      "execution_count": null,
      "metadata": {
        "id": "T8R5x1FEchDi"
      },
      "outputs": [],
      "source": [
        "#finding maximum and minimum element in an array\n",
        "list1=list(map(int,input().split()))\n",
        "min_ele=list1[0]\n",
        "max_ele=list1[0]\n",
        "for i in list1:\n",
        "  if i>max_ele:\n",
        "    max_ele=i\n",
        "  if i<min_ele:\n",
        "    min_ele=i\n",
        "print(min_ele,max_ele)"
      ]
    },
    {
      "cell_type": "code",
      "source": [
        "#Reverse the array\n",
        "list1=list(map(int,input(\"enter array elements:\").split()))\n",
        "rev_array=list1[::-1]\n",
        "print(rev_array)"
      ],
      "metadata": {
        "id": "i8DWA30_cpRn"
      },
      "execution_count": null,
      "outputs": []
    },
    {
      "cell_type": "code",
      "source": [
        "#string reversal using indexing\n",
        "string=input(\"enter string\")\n",
        "rev_string=string[::-1]\n",
        "print(rev_string)"
      ],
      "metadata": {
        "colab": {
          "base_uri": "https://localhost:8080/"
        },
        "id": "FCCvErJCGBaB",
        "outputId": "5495d96f-9a29-48d1-d4d1-85dbbcce02c0"
      },
      "execution_count": null,
      "outputs": [
        {
          "output_type": "stream",
          "name": "stdout",
          "text": [
            "enter stringmouni\n",
            "inuom\n"
          ]
        }
      ]
    },
    {
      "cell_type": "code",
      "source": [
        "#string reversal using loop\n",
        "def rev_string(string):\n",
        "  reverse_string=\"\"\n",
        "  for i in string:\n",
        "    reverse_string=i+reverse_string\n",
        "  return reverse_string\n",
        "input_string=input(\"enter string:\")\n",
        "rev_result=rev_string(input_string)\n",
        "print(rev_result)"
      ],
      "metadata": {
        "colab": {
          "base_uri": "https://localhost:8080/"
        },
        "id": "NOlLtmekGnlB",
        "outputId": "f03ed3db-22e0-4ec4-8443-09bab32d1cb1"
      },
      "execution_count": null,
      "outputs": [
        {
          "output_type": "stream",
          "name": "stdout",
          "text": [
            "enter stringmouni\n",
            "inuom\n"
          ]
        }
      ]
    },
    {
      "cell_type": "code",
      "source": [
        "#factorial 4!=4*3*2*1=24 using recursion\n",
        "def fact(n):\n",
        "  if n==0:\n",
        "    return 1\n",
        "  else:\n",
        "    return n*fact(n-1)\n",
        "n=int(input())\n",
        "print(fact(n))"
      ],
      "metadata": {
        "id": "m_8gSl7ZHvFF",
        "colab": {
          "base_uri": "https://localhost:8080/"
        },
        "outputId": "90a39c76-2a57-48fc-c6a4-80fb9bb09645"
      },
      "execution_count": 2,
      "outputs": [
        {
          "output_type": "stream",
          "name": "stdout",
          "text": [
            "4\n",
            "24\n"
          ]
        }
      ]
    },
    {
      "cell_type": "code",
      "source": [
        "#factorial using loop\n",
        "def factorial(n):\n",
        "  if n<0:\n",
        "    return \"factorial is undefined\"\n",
        "  elif n==0:\n",
        "    return \"factorial is 1\"\n",
        "  else:\n",
        "    result=1\n",
        "    for i in range(1,n+1):\n",
        "      result=result*i\n",
        "    return result\n",
        "n=int(input(\"enter integer:\"))\n",
        "fact=factorial(n)\n",
        "print(fact)"
      ],
      "metadata": {
        "id": "lLH_iDXhML67",
        "outputId": "49d4a45f-086f-4556-d6b2-b5a68fbc4a9f",
        "colab": {
          "base_uri": "https://localhost:8080/"
        }
      },
      "execution_count": 7,
      "outputs": [
        {
          "output_type": "stream",
          "name": "stdout",
          "text": [
            "enter integer6\n",
            "720\n"
          ]
        }
      ]
    }
  ]
}