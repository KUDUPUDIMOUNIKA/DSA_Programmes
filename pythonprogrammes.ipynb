{
  "nbformat": 4,
  "nbformat_minor": 0,
  "metadata": {
    "colab": {
      "provenance": [],
      "authorship_tag": "ABX9TyP0WLh71SIAv9/UR3NXyjNC",
      "include_colab_link": true
    },
    "kernelspec": {
      "name": "python3",
      "display_name": "Python 3"
    },
    "language_info": {
      "name": "python"
    }
  },
  "cells": [
    {
      "cell_type": "markdown",
      "metadata": {
        "id": "view-in-github",
        "colab_type": "text"
      },
      "source": [
        "<a href=\"https://colab.research.google.com/github/KUDUPUDIMOUNIKA/DSA_Programmes/blob/master/pythonprogrammes.ipynb\" target=\"_parent\"><img src=\"https://colab.research.google.com/assets/colab-badge.svg\" alt=\"Open In Colab\"/></a>"
      ]
    },
    {
      "cell_type": "code",
      "execution_count": null,
      "metadata": {
        "id": "T8R5x1FEchDi"
      },
      "outputs": [],
      "source": [
        "#finding maximum and minimum element in an array\n",
        "list1=list(map(int,input().split()))\n",
        "min_ele=list1[0]\n",
        "max_ele=list1[0]\n",
        "for i in list1:\n",
        "  if i>max_ele:\n",
        "    max_ele=i\n",
        "  if i<min_ele:\n",
        "    min_ele=i\n",
        "print(min_ele,max_ele)"
      ]
    },
    {
      "cell_type": "code",
      "source": [
        "#Reverse the array\n",
        "list1=list(map(int,input(\"enter array elements:\").split()))\n",
        "rev_array=list1[::-1]\n",
        "print(rev_array)"
      ],
      "metadata": {
        "id": "i8DWA30_cpRn"
      },
      "execution_count": null,
      "outputs": []
    },
    {
      "cell_type": "code",
      "source": [
        "#string reversal using indexing\n",
        "string=input(\"enter string\")\n",
        "rev_string=string[::-1]\n",
        "print(rev_string)"
      ],
      "metadata": {
        "colab": {
          "base_uri": "https://localhost:8080/"
        },
        "id": "FCCvErJCGBaB",
        "outputId": "5495d96f-9a29-48d1-d4d1-85dbbcce02c0"
      },
      "execution_count": null,
      "outputs": [
        {
          "output_type": "stream",
          "name": "stdout",
          "text": [
            "enter stringmouni\n",
            "inuom\n"
          ]
        }
      ]
    },
    {
      "cell_type": "code",
      "source": [
        "\"\"\"Anagram\n",
        "Anagram of a strig is an another string that contains same characters only in the order of characters can be different\n",
        "Heart = Earth(Anagram string)\"\"\"\n",
        "str1=input(\"enter string 1:\")\n",
        "str2=input(\"enter string 2:\")\n",
        "def Anagram():\n",
        "    sorted_str1=sorted(str1)\n",
        "    sorted_str2=sorted(str2)\n",
        "    if sorted_str1==sorted_str2:\n",
        "        print(\"Anagram\")\n",
        "    else:\n",
        "        print(\"Not Anagram\")\n",
        "Anagram()"
      ],
      "metadata": {
        "id": "JvszITQ2I2HT",
        "outputId": "27a7bf8a-d909-42fa-9283-8d8151c9ddba",
        "colab": {
          "base_uri": "https://localhost:8080/"
        }
      },
      "execution_count": 1,
      "outputs": [
        {
          "output_type": "stream",
          "name": "stdout",
          "text": [
            "enter string 1heart\n",
            "enter string 2earth\n",
            "Anagram\n"
          ]
        }
      ]
    },
    {
      "cell_type": "code",
      "source": [
        "#string reversal using loop\n",
        "def rev_string(string):\n",
        "  reverse_string=\"\"\n",
        "  for i in string:\n",
        "    reverse_string=i+reverse_string\n",
        "  return reverse_string\n",
        "input_string=input(\"enter string:\")\n",
        "rev_result=rev_string(input_string)\n",
        "print(rev_result)"
      ],
      "metadata": {
        "colab": {
          "base_uri": "https://localhost:8080/"
        },
        "id": "NOlLtmekGnlB",
        "outputId": "f03ed3db-22e0-4ec4-8443-09bab32d1cb1"
      },
      "execution_count": null,
      "outputs": [
        {
          "output_type": "stream",
          "name": "stdout",
          "text": [
            "enter stringmouni\n",
            "inuom\n"
          ]
        }
      ]
    },
    {
      "cell_type": "code",
      "source": [
        "#factorial 4!=4*3*2*1=24 using recursion\n",
        "def fact(n):\n",
        "  if n==0:\n",
        "    return 1\n",
        "  else:\n",
        "    return n*fact(n-1)\n",
        "n=int(input())\n",
        "print(fact(n))"
      ],
      "metadata": {
        "id": "m_8gSl7ZHvFF",
        "colab": {
          "base_uri": "https://localhost:8080/"
        },
        "outputId": "90a39c76-2a57-48fc-c6a4-80fb9bb09645"
      },
      "execution_count": null,
      "outputs": [
        {
          "output_type": "stream",
          "name": "stdout",
          "text": [
            "4\n",
            "24\n"
          ]
        }
      ]
    },
    {
      "cell_type": "code",
      "source": [
        "#factorial using loop\n",
        "def factorial(n):\n",
        "  if n<0:\n",
        "    return \"factorial is undefined\"\n",
        "  elif n==0:\n",
        "    return \"factorial is 1\"\n",
        "  else:\n",
        "    result=1\n",
        "    for i in range(1,n+1):\n",
        "      result=result*i\n",
        "    return result\n",
        "n=int(input(\"enter integer:\"))\n",
        "fact=factorial(n)\n",
        "print(fact)"
      ],
      "metadata": {
        "id": "lLH_iDXhML67",
        "outputId": "49d4a45f-086f-4556-d6b2-b5a68fbc4a9f",
        "colab": {
          "base_uri": "https://localhost:8080/"
        }
      },
      "execution_count": null,
      "outputs": [
        {
          "output_type": "stream",
          "name": "stdout",
          "text": [
            "enter integer6\n",
            "720\n"
          ]
        }
      ]
    },
    {
      "cell_type": "code",
      "source": [
        "#character frequency code\n",
        "from collections import Counter\n",
        "\n",
        "def character_frequency_counter(text):\n",
        "    return Counter(text)\n",
        "\n",
        "# Example usage:\n",
        "my_string = \"banana\"\n",
        "frequencies = character_frequency_counter(my_string)\n",
        "print(f\"Character frequencies for '{my_string}':\")\n",
        "print(frequencies) # Counter objects have a nice string representation\n",
        "print(f\"Frequency of 'a': {frequencies['a']}\")\n"
      ],
      "metadata": {
        "id": "0bEEs39UQBt3",
        "outputId": "948afd50-234f-4d08-c5ec-2f98c00ccacb",
        "colab": {
          "base_uri": "https://localhost:8080/"
        }
      },
      "execution_count": null,
      "outputs": [
        {
          "output_type": "stream",
          "name": "stdout",
          "text": [
            "Character frequencies for 'banana':\n",
            "Counter({'a': 3, 'n': 2, 'b': 1})\n",
            "Frequency of 'a': 3\n"
          ]
        }
      ]
    },
    {
      "cell_type": "code",
      "source": [
        "#find the odd or even number\n",
        "def odd_even(num):\n",
        "  if num%2==0:\n",
        "    return \"even number\"\n",
        "  else:\n",
        "    return \"odd number\"\n",
        "number=int(input())\n",
        "print(odd_even(number))"
      ],
      "metadata": {
        "colab": {
          "base_uri": "https://localhost:8080/"
        },
        "id": "L-24hEfFFhzc",
        "outputId": "c1bf0f81-2bcb-4418-9c82-6935fbb98f0e"
      },
      "execution_count": null,
      "outputs": [
        {
          "output_type": "stream",
          "name": "stdout",
          "text": [
            "4\n",
            "even number\n"
          ]
        }
      ]
    },
    {
      "cell_type": "code",
      "source": [
        "#printing even or odd numbers in the given range\n",
        "def seq_num(n):\n",
        "  odd_num=[]\n",
        "  even_num=[]\n",
        "  for i in range(1,n):\n",
        "    if i%2==0:\n",
        "      even_num.append(i)\n",
        "    else:\n",
        "      odd_num.append(i)\n",
        "  return odd_num,even_num\n",
        "n=int(input())\n",
        "odd_list, even_list = seq_num(n)\n",
        "print(\"Odd numbers:\", odd_list)\n",
        "print(\"Even numbers:\", even_list)"
      ],
      "metadata": {
        "colab": {
          "base_uri": "https://localhost:8080/"
        },
        "id": "PKeTTg12F__A",
        "outputId": "cff57992-5bcb-41ee-c486-83ae5da286e0"
      },
      "execution_count": null,
      "outputs": [
        {
          "output_type": "stream",
          "name": "stdout",
          "text": [
            "5\n",
            "Odd numbers: [1, 3]\n",
            "Even numbers: [2, 4]\n"
          ]
        }
      ]
    },
    {
      "cell_type": "code",
      "source": [
        "#linear search\n",
        "def linear_search(arr):\n",
        "    search_ele=int(input(\"enter searching element\"))\n",
        "    for i in range((len(n))):\n",
        "        if arr[i]==search_ele:\n",
        "          return f\"element found at index:{i}\"\n",
        "n=list(map(int,input().split()))\n",
        "print(linear_search(n))\n"
      ],
      "metadata": {
        "colab": {
          "base_uri": "https://localhost:8080/"
        },
        "id": "g6VLC7bGGann",
        "outputId": "e56b86c7-52d6-4238-a139-d2c0a0dbb48a"
      },
      "execution_count": null,
      "outputs": [
        {
          "output_type": "stream",
          "name": "stdout",
          "text": [
            "4 5 6 7 3 8\n",
            "enter searching element3\n",
            "element found at index:4\n"
          ]
        }
      ]
    },
    {
      "cell_type": "code",
      "source": [
        "#Binary Search only works with lists in which the values are already sorted\n",
        "pos=-1\n",
        "def binary_search(list,n):\n",
        "  lower_bound=0\n",
        "  upper_bound=len(list)-1\n",
        "  while (lower_bound<=upper_bound):\n",
        "    mid=(lower_bound+upper_bound)//2\n",
        "    if list[mid]==n:\n",
        "      globals() ['pos']=mid\n",
        "      return True\n",
        "    else:\n",
        "      if list[mid]<n:\n",
        "        lower_bound=mid\n",
        "      else:\n",
        "        upper_bound=mid\n",
        "list=[2,3,23,26,34,37,49,56]\n",
        "n=49\n",
        "\n",
        "if (binary_search(list,n)):\n",
        "  print(\"element found at\",pos+1)\n",
        "else:\n",
        "  print(\"element not found\")\n"
      ],
      "metadata": {
        "id": "1KFku6PNYirY",
        "outputId": "17d1ae87-b333-4914-b931-8484968d04e7",
        "colab": {
          "base_uri": "https://localhost:8080/"
        }
      },
      "execution_count": null,
      "outputs": [
        {
          "output_type": "stream",
          "name": "stdout",
          "text": [
            "element found at 7\n"
          ]
        }
      ]
    },
    {
      "cell_type": "code",
      "source": [],
      "metadata": {
        "id": "6yaxn-c8Yldp"
      },
      "execution_count": null,
      "outputs": []
    }
  ]
}